{
  "nbformat": 4,
  "nbformat_minor": 0,
  "metadata": {
    "colab": {
      "name": "SegundaWeb.ipynb",
      "provenance": []
    },
    "kernelspec": {
      "name": "python3",
      "display_name": "Python 3"
    }
  },
  "cells": [
    {
      "cell_type": "markdown",
      "metadata": {
        "id": "qIx7alA3DQHb"
      },
      "source": [
        "# La música en la Catedral de Santo Domingo de la Calzada\r\n",
        "## Aplicación para buscar las obras de los autores\r\n",
        "Vamos a presentar una sencilla página web que, dado un autor, nos devuelva todas sus obras clasificadas.\r\n",
        "- **Nota:** algunos autores tienen distinto el nombre en las páginas y en el índice onomástico. Por ejemplo el autor *Prado, Ramón José* en las páginas del libro aparece como *Prado*, por lo que habrá que buscarlo por este segundo nombre (el de las páginas)."
      ]
    },
    {
      "cell_type": "code",
      "metadata": {
        "colab": {
          "base_uri": "https://localhost:8080/"
        },
        "id": "qqHGHssMBX6Y",
        "outputId": "2c815169-ca7f-443b-f9b6-7c3bb151d6d8"
      },
      "source": [
        "import numpy as np\r\n",
        "import cv2\r\n",
        "import pickle\r\n",
        "import re,string\r\n",
        "from unicodedata import normalize\r\n",
        "import matplotlib.pyplot as plt\r\n",
        "import ipywidgets as widgets\r\n",
        "from IPython.display import display\r\n",
        "from google.colab import drive\r\n",
        "drive.mount('/content/drive')\r\n",
        "%matplotlib inline"
      ],
      "execution_count": 1,
      "outputs": [
        {
          "output_type": "stream",
          "text": [
            "Mounted at /content/drive\n"
          ],
          "name": "stdout"
        }
      ]
    },
    {
      "cell_type": "code",
      "metadata": {
        "id": "8Ly37zDICQp4"
      },
      "source": [
        "%%capture\r\n",
        "!unzip /content/drive/MyDrive/Fotos.zip"
      ],
      "execution_count": 2,
      "outputs": []
    },
    {
      "cell_type": "code",
      "metadata": {
        "id": "3nxhW07WEOdV"
      },
      "source": [
        "with open(\"Obras_final.pickle\", \"rb\") as f:\r\n",
        "    Obras_final = pickle.load(f)\r\n",
        "with open(\"ini_Obras.pickle\", \"rb\") as f:\r\n",
        "    ini_Obras = pickle.load(f)"
      ],
      "execution_count": 15,
      "outputs": []
    },
    {
      "cell_type": "code",
      "metadata": {
        "id": "-4r-k8LSEWZD"
      },
      "source": [
        "def remove_punctuation(frase):\r\n",
        "  char = re.sub('[%s]' % re.escape(string.punctuation.replace('-','')),'',frase)\r\n",
        "  char = char.replace('¿','').replace('?','').replace('`','').replace('´','').replace('#','').lower()\r\n",
        "  char = re.sub(\r\n",
        "        r\"([^n\\u0300-\\u036f]|n(?!\\u0303(?![\\u0300-\\u036f])))[\\u0300-\\u036f]+\", r\"\\1\", \r\n",
        "        normalize( \"NFD\", char), 0, re.I\r\n",
        "    )\r\n",
        "  char = normalize( 'NFC', char)\r\n",
        "  return char"
      ],
      "execution_count": 5,
      "outputs": []
    },
    {
      "cell_type": "code",
      "metadata": {
        "id": "TI_Oqdg7HIxj"
      },
      "source": [
        "claves = [pag for pag in ini_Obras]\r\n",
        "Pagina = {}\r\n",
        "for cla in claves:\r\n",
        "  foto = cv2.imread('Fotos/pag'+str(cla)+'.jpg')\r\n",
        "  foto = cv2.cvtColor(foto,cv2.COLOR_BGR2RGB)\r\n",
        "  Pagina[cla] = foto"
      ],
      "execution_count": 16,
      "outputs": []
    },
    {
      "cell_type": "code",
      "metadata": {
        "id": "e1jmDZ_6FCrk"
      },
      "source": [
        "Autores = list(Obras_final.keys())\r\n",
        "Autores2 = [remove_punctuation(a) for a in Autores]\r\n",
        "Autores22 = []\r\n",
        "for a in Autores:\r\n",
        "  if len(a.split(sep=',')) > 1:\r\n",
        "    Autores22.append(remove_punctuation(' '.join(a.split(sep=',')[::-1]))[1:])\r\n",
        "  else:\r\n",
        "    Autores22.append(remove_punctuation(' '.join(a.split(sep=',')[::-1])))"
      ],
      "execution_count": 8,
      "outputs": []
    },
    {
      "cell_type": "code",
      "metadata": {
        "id": "K1adq_dGJft8"
      },
      "source": [
        "def verPagina(num_obra):\r\n",
        "  for cla in ini_Obras:\r\n",
        "    if num_obra in ini_Obras[cla]: return cla"
      ],
      "execution_count": 19,
      "outputs": []
    },
    {
      "cell_type": "code",
      "metadata": {
        "id": "hq5vd6gLEXG0"
      },
      "source": [
        "def buscar(autor):\r\n",
        "  if autor not in Autores + Autores2 + Autores22: print('Ese autor no existe o está mal escrito.')\r\n",
        "  else:\r\n",
        "    if autor in Autores2:\r\n",
        "      autor = Autores[Autores2.index(autor)]\r\n",
        "    elif autor in Autores22:\r\n",
        "      autor = Autores[Autores22.index(autor)]\r\n",
        "    Foto = np.zeros((100,1000,3),dtype='uint8') + 255\r\n",
        "    cv2.putText(Foto, 'Aqui estan las obras del autor: ' + remove_punctuation(autor) + '.', (100, 60), cv2.FONT_HERSHEY_TRIPLEX,0.8, (0, 0, 0), 2)\r\n",
        "    fig, ax = plt.subplots(1,1,figsize=(16,16))\r\n",
        "    ax.imshow(Foto,cmap=plt.cm.binary)\r\n",
        "    plt.show()\r\n",
        "    for i in Obras_final[autor]:\r\n",
        "      Foto = []\r\n",
        "      pag = verPagina(i)\r\n",
        "      n = len(Obras_final[autor][i]['Coordenadas'])\r\n",
        "      for j in range(0,n):\r\n",
        "        x,y,w,h = Obras_final[autor][i]['Coordenadas'][j]\r\n",
        "        Foto.append(Pagina[pag+j][y:y+h+5,x:x+w])\r\n",
        "      Foto = np.concatenate([np.zeros((100,1080,3),dtype='uint8')+255]+Foto,axis=0)\r\n",
        "      types = 'Tipos: ' + ', '.join([remove_punctuation(t) for t in Obras_final[autor][i]['Tipo']]) + '.'\r\n",
        "      cv2.rectangle(Foto, (0,0), (1080,50), (119, 90, 17), 2)\r\n",
        "      cv2.putText(Foto, types, (150, 30), cv2.FONT_HERSHEY_TRIPLEX,0.6, (0, 0, 0), 2)\r\n",
        "      cv2.putText(Foto, 'Pagina: ' + str(pag), (500, 30), cv2.FONT_HERSHEY_TRIPLEX,0.6, (0, 0, 0), 2)\r\n",
        "      fig, ax = plt.subplots(1,1,figsize=(16,16))\r\n",
        "      ax.imshow(Foto,cmap=plt.cm.binary)\r\n",
        "      plt.show()"
      ],
      "execution_count": 78,
      "outputs": []
    },
    {
      "cell_type": "code",
      "metadata": {
        "colab": {
          "base_uri": "https://localhost:8080/"
        },
        "id": "9CZ3l4imS_h_",
        "outputId": "01b389df-7acc-4de6-8350-8eae17b28c84"
      },
      "source": [
        "keyword=widgets.Text(\r\n",
        "    placeholder='Autor: ',\r\n",
        "    disabled=False\r\n",
        ")\r\n",
        "display(keyword)\r\n",
        "\r\n",
        "\r\n",
        "button = widgets.Button(description=\"Buscar\")\r\n",
        "display(button)\r\n",
        "\r\n",
        "output = widgets.Output()\r\n",
        "@output.capture()\r\n",
        "def on_button_clicked(b):\r\n",
        "  output.clear_output()\r\n",
        "  if keyword.value == '': \r\n",
        "    print('No has escrito nada.')\r\n",
        "  else:\r\n",
        "    buscar(keyword.value)\r\n",
        "\r\n",
        "button.on_click(on_button_clicked)\r\n",
        "display(output)"
      ],
      "execution_count": 87,
      "outputs": [
        {
          "output_type": "display_data",
          "data": {
            "application/vnd.jupyter.widget-view+json": {
              "model_id": "f7ddf00fb7c0476bb95a39a4b1a9be5e",
              "version_minor": 0,
              "version_major": 2
            },
            "text/plain": [
              "Text(value='', placeholder='Autor: ')"
            ]
          },
          "metadata": {
            "tags": []
          }
        },
        {
          "output_type": "display_data",
          "data": {
            "application/vnd.jupyter.widget-view+json": {
              "model_id": "8422baf4ba674766b8386e441ffbc71e",
              "version_minor": 0,
              "version_major": 2
            },
            "text/plain": [
              "Button(description='Buscar', style=ButtonStyle())"
            ]
          },
          "metadata": {
            "tags": []
          }
        },
        {
          "output_type": "display_data",
          "data": {
            "application/vnd.jupyter.widget-view+json": {
              "model_id": "d26ceb7de3f34d56a5cddf2cf5a735e5",
              "version_minor": 0,
              "version_major": 2
            },
            "text/plain": [
              "Output()"
            ]
          },
          "metadata": {
            "tags": []
          }
        }
      ]
    }
  ]
}